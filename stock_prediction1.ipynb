{
 "cells": [
  {
   "cell_type": "code",
   "execution_count": 8,
   "id": "28083736-2c9c-4616-aab5-524ffb477114",
   "metadata": {},
   "outputs": [],
   "source": [
    "#Predicting Stock Prices using Machine Learning"
   ]
  },
  {
   "cell_type": "code",
   "execution_count": 9,
   "id": "a35edd8f-bd13-4e60-9ca9-50f3bf09383c",
   "metadata": {},
   "outputs": [
    {
     "name": "stdout",
     "output_type": "stream",
     "text": [
      "Requirement already satisfied: yellowbrick in c:\\python312\\lib\\site-packages (1.5)\n",
      "Requirement already satisfied: matplotlib!=3.0.0,>=2.0.2 in c:\\users\\admin\\appdata\\roaming\\python\\python312\\site-packages (from yellowbrick) (3.8.4)\n",
      "Requirement already satisfied: scipy>=1.0.0 in c:\\python312\\lib\\site-packages (from yellowbrick) (1.13.0)\n",
      "Requirement already satisfied: scikit-learn>=1.0.0 in c:\\python312\\lib\\site-packages (from yellowbrick) (1.4.2)\n",
      "Requirement already satisfied: numpy>=1.16.0 in c:\\python312\\lib\\site-packages (from yellowbrick) (1.26.3)\n",
      "Requirement already satisfied: cycler>=0.10.0 in c:\\users\\admin\\appdata\\roaming\\python\\python312\\site-packages (from yellowbrick) (0.12.1)\n",
      "Requirement already satisfied: contourpy>=1.0.1 in c:\\users\\admin\\appdata\\roaming\\python\\python312\\site-packages (from matplotlib!=3.0.0,>=2.0.2->yellowbrick) (1.2.1)\n",
      "Requirement already satisfied: fonttools>=4.22.0 in c:\\python312\\lib\\site-packages (from matplotlib!=3.0.0,>=2.0.2->yellowbrick) (4.51.0)\n",
      "Requirement already satisfied: kiwisolver>=1.3.1 in c:\\python312\\lib\\site-packages (from matplotlib!=3.0.0,>=2.0.2->yellowbrick) (1.4.5)\n",
      "Requirement already satisfied: packaging>=20.0 in c:\\python312\\lib\\site-packages (from matplotlib!=3.0.0,>=2.0.2->yellowbrick) (23.2)\n",
      "Requirement already satisfied: pillow>=8 in c:\\python312\\lib\\site-packages (from matplotlib!=3.0.0,>=2.0.2->yellowbrick) (10.3.0)\n",
      "Requirement already satisfied: pyparsing>=2.3.1 in c:\\python312\\lib\\site-packages (from matplotlib!=3.0.0,>=2.0.2->yellowbrick) (3.1.2)\n",
      "Requirement already satisfied: python-dateutil>=2.7 in c:\\python312\\lib\\site-packages (from matplotlib!=3.0.0,>=2.0.2->yellowbrick) (2.8.2)\n",
      "Requirement already satisfied: joblib>=1.2.0 in c:\\python312\\lib\\site-packages (from scikit-learn>=1.0.0->yellowbrick) (1.4.0)\n",
      "Requirement already satisfied: threadpoolctl>=2.0.0 in c:\\python312\\lib\\site-packages (from scikit-learn>=1.0.0->yellowbrick) (3.4.0)\n",
      "Requirement already satisfied: six>=1.5 in c:\\python312\\lib\\site-packages (from python-dateutil>=2.7->matplotlib!=3.0.0,>=2.0.2->yellowbrick) (1.16.0)\n",
      "Note: you may need to restart the kernel to use updated packages.\n"
     ]
    }
   ],
   "source": [
    "pip install yellowbrick"
   ]
  },
  {
   "cell_type": "code",
   "execution_count": 10,
   "id": "f7448e0b-cb55-4a9a-bbcf-f7cafc4bbdb5",
   "metadata": {},
   "outputs": [],
   "source": [
    "# Regular EDA and plotting libraries\n",
    "import numpy as np \n",
    "import pandas as pd\n",
    "import matplotlib.pyplot as plt\n",
    "from yellowbrick.regressor import PredictionError\n",
    "\n",
    "#To get rid of warnings\n",
    "import warnings\n",
    "warnings.filterwarnings(\"ignore\")\n",
    "\n",
    "# We want our plots to appear in the notebook\n",
    "%matplotlib inline\n",
    "\n",
    "## Models\n",
    "from sklearn import linear_model\n",
    "from sklearn.linear_model import LinearRegression\n",
    "from sklearn.ensemble import RandomForestRegressor\n",
    "\n",
    "## Model evaluators\n",
    "from sklearn.model_selection import train_test_split, cross_val_score\n",
    "from sklearn.preprocessing import LabelEncoder\n",
    "from sklearn.metrics import r2_score, mean_absolute_error, mean_squared_error"
   ]
  },
  {
   "cell_type": "code",
   "execution_count": 11,
   "id": "dfabac6e-bdfa-4ba8-839c-80ecb059df28",
   "metadata": {},
   "outputs": [
    {
     "data": {
      "text/html": [
       "<div>\n",
       "<style scoped>\n",
       "    .dataframe tbody tr th:only-of-type {\n",
       "        vertical-align: middle;\n",
       "    }\n",
       "\n",
       "    .dataframe tbody tr th {\n",
       "        vertical-align: top;\n",
       "    }\n",
       "\n",
       "    .dataframe thead th {\n",
       "        text-align: right;\n",
       "    }\n",
       "</style>\n",
       "<table border=\"1\" class=\"dataframe\">\n",
       "  <thead>\n",
       "    <tr style=\"text-align: right;\">\n",
       "      <th></th>\n",
       "      <th>Stock Index</th>\n",
       "      <th>Index</th>\n",
       "      <th>Industry</th>\n",
       "      <th>VWAP</th>\n",
       "      <th>General Index</th>\n",
       "      <th>NAV</th>\n",
       "      <th>P/E Ratio</th>\n",
       "      <th>Volumes Traded</th>\n",
       "      <th>Inventory Turnover</th>\n",
       "      <th>Covid Impact (Beta)</th>\n",
       "      <th>Tracking Error</th>\n",
       "      <th>Dollar Exchange Rate</th>\n",
       "      <th>Put-Call Ratio</th>\n",
       "      <th>P/B Ratio</th>\n",
       "      <th>Stock Price</th>\n",
       "    </tr>\n",
       "  </thead>\n",
       "  <tbody>\n",
       "    <tr>\n",
       "      <th>0</th>\n",
       "      <td>AA1</td>\n",
       "      <td>NYSE</td>\n",
       "      <td>Real Estate</td>\n",
       "      <td>700.29</td>\n",
       "      <td>12765.84</td>\n",
       "      <td>32.38</td>\n",
       "      <td>45.35</td>\n",
       "      <td>1208599.0</td>\n",
       "      <td>5.05</td>\n",
       "      <td>-0.43</td>\n",
       "      <td>0.0520</td>\n",
       "      <td>1.0</td>\n",
       "      <td>0.61</td>\n",
       "      <td>9.20</td>\n",
       "      <td>156.987852</td>\n",
       "    </tr>\n",
       "    <tr>\n",
       "      <th>1</th>\n",
       "      <td>AA2</td>\n",
       "      <td>NYSE</td>\n",
       "      <td>Information Tech</td>\n",
       "      <td>214.52</td>\n",
       "      <td>12765.84</td>\n",
       "      <td>33.25</td>\n",
       "      <td>170.56</td>\n",
       "      <td>13753356.0</td>\n",
       "      <td>3.10</td>\n",
       "      <td>0.23</td>\n",
       "      <td>0.0164</td>\n",
       "      <td>1.0</td>\n",
       "      <td>NaN</td>\n",
       "      <td>6.91</td>\n",
       "      <td>560.859622</td>\n",
       "    </tr>\n",
       "    <tr>\n",
       "      <th>2</th>\n",
       "      <td>AA3</td>\n",
       "      <td>NYSE</td>\n",
       "      <td>Information Tech</td>\n",
       "      <td>943.42</td>\n",
       "      <td>12765.84</td>\n",
       "      <td>88.27</td>\n",
       "      <td>143.58</td>\n",
       "      <td>6892003.0</td>\n",
       "      <td>7.70</td>\n",
       "      <td>0.23</td>\n",
       "      <td>0.0396</td>\n",
       "      <td>1.0</td>\n",
       "      <td>NaN</td>\n",
       "      <td>6.09</td>\n",
       "      <td>1279.732874</td>\n",
       "    </tr>\n",
       "    <tr>\n",
       "      <th>3</th>\n",
       "      <td>AA4</td>\n",
       "      <td>BSE</td>\n",
       "      <td>Materials</td>\n",
       "      <td>828.13</td>\n",
       "      <td>38182.08</td>\n",
       "      <td>73.66</td>\n",
       "      <td>151.76</td>\n",
       "      <td>8316793.0</td>\n",
       "      <td>4.80</td>\n",
       "      <td>0.03</td>\n",
       "      <td>0.0431</td>\n",
       "      <td>74.9</td>\n",
       "      <td>1.11</td>\n",
       "      <td>5.60</td>\n",
       "      <td>1121.787632</td>\n",
       "    </tr>\n",
       "    <tr>\n",
       "      <th>4</th>\n",
       "      <td>AA5</td>\n",
       "      <td>S&amp;P 500</td>\n",
       "      <td>Real Estate</td>\n",
       "      <td>NaN</td>\n",
       "      <td>3351.28</td>\n",
       "      <td>23.79</td>\n",
       "      <td>NaN</td>\n",
       "      <td>3943312.0</td>\n",
       "      <td>8.06</td>\n",
       "      <td>-0.43</td>\n",
       "      <td>0.0244</td>\n",
       "      <td>1.0</td>\n",
       "      <td>1.07</td>\n",
       "      <td>9.46</td>\n",
       "      <td>382.962534</td>\n",
       "    </tr>\n",
       "  </tbody>\n",
       "</table>\n",
       "</div>"
      ],
      "text/plain": [
       "  Stock Index    Index          Industry    VWAP  General Index    NAV  \\\n",
       "0         AA1     NYSE       Real Estate  700.29       12765.84  32.38   \n",
       "1         AA2     NYSE  Information Tech  214.52       12765.84  33.25   \n",
       "2         AA3     NYSE  Information Tech  943.42       12765.84  88.27   \n",
       "3         AA4      BSE         Materials  828.13       38182.08  73.66   \n",
       "4         AA5  S&P 500       Real Estate     NaN        3351.28  23.79   \n",
       "\n",
       "   P/E Ratio  Volumes Traded  Inventory Turnover  Covid Impact (Beta)  \\\n",
       "0      45.35       1208599.0                5.05                -0.43   \n",
       "1     170.56      13753356.0                3.10                 0.23   \n",
       "2     143.58       6892003.0                7.70                 0.23   \n",
       "3     151.76       8316793.0                4.80                 0.03   \n",
       "4        NaN       3943312.0                8.06                -0.43   \n",
       "\n",
       "   Tracking Error  Dollar Exchange Rate  Put-Call Ratio  P/B Ratio  \\\n",
       "0          0.0520                   1.0            0.61       9.20   \n",
       "1          0.0164                   1.0             NaN       6.91   \n",
       "2          0.0396                   1.0             NaN       6.09   \n",
       "3          0.0431                  74.9            1.11       5.60   \n",
       "4          0.0244                   1.0            1.07       9.46   \n",
       "\n",
       "   Stock Price  \n",
       "0   156.987852  \n",
       "1   560.859622  \n",
       "2  1279.732874  \n",
       "3  1121.787632  \n",
       "4   382.962534  "
      ]
     },
     "execution_count": 11,
     "metadata": {},
     "output_type": "execute_result"
    }
   ],
   "source": [
    "train_data = pd.read_csv(\"C:\\\\Users\\\\admin\\\\Downloads\\\\data\\\\Train_dataset_ - Train_Aug10.csv\")\n",
    "train_data.head()"
   ]
  },
  {
   "cell_type": "code",
   "execution_count": 12,
   "id": "1f638bd7-6a2d-4727-929a-0d5abea235d1",
   "metadata": {},
   "outputs": [
    {
     "name": "stdout",
     "output_type": "stream",
     "text": [
      "<class 'pandas.core.frame.DataFrame'>\n",
      "RangeIndex: 7383 entries, 0 to 7382\n",
      "Data columns (total 15 columns):\n",
      " #   Column                Non-Null Count  Dtype  \n",
      "---  ------                --------------  -----  \n",
      " 0   Stock Index           7383 non-null   object \n",
      " 1   Index                 7383 non-null   object \n",
      " 2   Industry              7383 non-null   object \n",
      " 3   VWAP                  7345 non-null   float64\n",
      " 4   General Index         7321 non-null   float64\n",
      " 5   NAV                   7322 non-null   float64\n",
      " 6   P/E Ratio             7149 non-null   float64\n",
      " 7   Volumes Traded        7115 non-null   float64\n",
      " 8   Inventory Turnover    6984 non-null   float64\n",
      " 9   Covid Impact (Beta)   7007 non-null   float64\n",
      " 10  Tracking Error        7312 non-null   float64\n",
      " 11  Dollar Exchange Rate  7306 non-null   float64\n",
      " 12  Put-Call Ratio        7298 non-null   float64\n",
      " 13  P/B Ratio             7358 non-null   float64\n",
      " 14  Stock Price           7383 non-null   float64\n",
      "dtypes: float64(12), object(3)\n",
      "memory usage: 865.3+ KB\n"
     ]
    }
   ],
   "source": [
    "train_data.info() #Gives Insight about different Attributes\n",
    "\n"
   ]
  },
  {
   "cell_type": "code",
   "execution_count": 13,
   "id": "03b2f6db-e5ba-4cc0-aa7c-cf05e20e9c17",
   "metadata": {},
   "outputs": [],
   "source": [
    "#Filling the missing values"
   ]
  },
  {
   "cell_type": "code",
   "execution_count": 14,
   "id": "f4c8b809-6677-4eb0-9385-b3de10ec3875",
   "metadata": {},
   "outputs": [
    {
     "data": {
      "text/plain": [
       "Stock Index               0\n",
       "Index                     0\n",
       "Industry                  0\n",
       "VWAP                     38\n",
       "General Index            62\n",
       "NAV                      61\n",
       "P/E Ratio               234\n",
       "Volumes Traded          268\n",
       "Inventory Turnover      399\n",
       "Covid Impact (Beta)     376\n",
       "Tracking Error           71\n",
       "Dollar Exchange Rate     77\n",
       "Put-Call Ratio           85\n",
       "P/B Ratio                25\n",
       "Stock Price               0\n",
       "dtype: int64"
      ]
     },
     "execution_count": 14,
     "metadata": {},
     "output_type": "execute_result"
    }
   ],
   "source": [
    "train_data.isna().sum() #Gives the number of missing values in each column"
   ]
  },
  {
   "cell_type": "code",
   "execution_count": 15,
   "id": "6ad1a294-52c5-4c52-a73e-ca5a4453c51f",
   "metadata": {},
   "outputs": [
    {
     "data": {
      "text/html": [
       "<div>\n",
       "<style scoped>\n",
       "    .dataframe tbody tr th:only-of-type {\n",
       "        vertical-align: middle;\n",
       "    }\n",
       "\n",
       "    .dataframe tbody tr th {\n",
       "        vertical-align: top;\n",
       "    }\n",
       "\n",
       "    .dataframe thead th {\n",
       "        text-align: right;\n",
       "    }\n",
       "</style>\n",
       "<table border=\"1\" class=\"dataframe\">\n",
       "  <thead>\n",
       "    <tr style=\"text-align: right;\">\n",
       "      <th>Dollar Exchange Rate</th>\n",
       "      <th>1.0</th>\n",
       "      <th>17.7</th>\n",
       "      <th>74.9</th>\n",
       "    </tr>\n",
       "    <tr>\n",
       "      <th>Index</th>\n",
       "      <th></th>\n",
       "      <th></th>\n",
       "      <th></th>\n",
       "    </tr>\n",
       "  </thead>\n",
       "  <tbody>\n",
       "    <tr>\n",
       "      <th>BSE</th>\n",
       "      <td>0</td>\n",
       "      <td>0</td>\n",
       "      <td>1447</td>\n",
       "    </tr>\n",
       "    <tr>\n",
       "      <th>JSE</th>\n",
       "      <td>0</td>\n",
       "      <td>1463</td>\n",
       "      <td>0</td>\n",
       "    </tr>\n",
       "    <tr>\n",
       "      <th>NSE</th>\n",
       "      <td>0</td>\n",
       "      <td>0</td>\n",
       "      <td>1484</td>\n",
       "    </tr>\n",
       "    <tr>\n",
       "      <th>NYSE</th>\n",
       "      <td>1454</td>\n",
       "      <td>0</td>\n",
       "      <td>0</td>\n",
       "    </tr>\n",
       "    <tr>\n",
       "      <th>S&amp;P 500</th>\n",
       "      <td>1458</td>\n",
       "      <td>0</td>\n",
       "      <td>0</td>\n",
       "    </tr>\n",
       "  </tbody>\n",
       "</table>\n",
       "</div>"
      ],
      "text/plain": [
       "Dollar Exchange Rate  1.0   17.7  74.9\n",
       "Index                                 \n",
       "BSE                      0     0  1447\n",
       "JSE                      0  1463     0\n",
       "NSE                      0     0  1484\n",
       "NYSE                  1454     0     0\n",
       "S&P 500               1458     0     0"
      ]
     },
     "execution_count": 15,
     "metadata": {},
     "output_type": "execute_result"
    }
   ],
   "source": [
    "#Index vs. Dollar Exchange Rate\n",
    "pd.crosstab(train_data['Index'],train_data['Dollar Exchange Rate'])"
   ]
  },
  {
   "cell_type": "code",
   "execution_count": 16,
   "id": "78259bd3-df34-4162-ada6-0502e2d289ac",
   "metadata": {},
   "outputs": [],
   "source": [
    "train_data.loc[train_data[\"Index\"]==\"NSE\", [\"Dollar Exchange Rate\"]] = 74.9\n",
    "train_data.loc[train_data[\"Index\"]==\"NYSE\", [\"Dollar Exchange Rate\"]] = 1.0\n",
    "train_data.loc[train_data[\"Index\"]==\"BSE\", [\"Dollar Exchange Rate\"]] = 74.9\n",
    "train_data.loc[train_data[\"Index\"]==\"JSE\", [\"Dollar Exchange Rate\"]] = 17.7\n",
    "train_data.loc[train_data[\"Index\"]==\"S&P 500\", [\"Dollar Exchange Rate\"]] = 1.0"
   ]
  },
  {
   "cell_type": "code",
   "execution_count": 17,
   "id": "0a368eed-44bf-4a8f-ab3c-81eac7aa0d35",
   "metadata": {},
   "outputs": [
    {
     "data": {
      "text/html": [
       "<div>\n",
       "<style scoped>\n",
       "    .dataframe tbody tr th:only-of-type {\n",
       "        vertical-align: middle;\n",
       "    }\n",
       "\n",
       "    .dataframe tbody tr th {\n",
       "        vertical-align: top;\n",
       "    }\n",
       "\n",
       "    .dataframe thead th {\n",
       "        text-align: right;\n",
       "    }\n",
       "</style>\n",
       "<table border=\"1\" class=\"dataframe\">\n",
       "  <thead>\n",
       "    <tr style=\"text-align: right;\">\n",
       "      <th>Covid Impact (Beta)</th>\n",
       "      <th>-0.43</th>\n",
       "      <th>0.03</th>\n",
       "      <th>0.11</th>\n",
       "      <th>0.23</th>\n",
       "      <th>0.78</th>\n",
       "    </tr>\n",
       "    <tr>\n",
       "      <th>Industry</th>\n",
       "      <th></th>\n",
       "      <th></th>\n",
       "      <th></th>\n",
       "      <th></th>\n",
       "      <th></th>\n",
       "    </tr>\n",
       "  </thead>\n",
       "  <tbody>\n",
       "    <tr>\n",
       "      <th>Energy</th>\n",
       "      <td>0</td>\n",
       "      <td>0</td>\n",
       "      <td>1431</td>\n",
       "      <td>0</td>\n",
       "      <td>0</td>\n",
       "    </tr>\n",
       "    <tr>\n",
       "      <th>Healthcare</th>\n",
       "      <td>0</td>\n",
       "      <td>0</td>\n",
       "      <td>0</td>\n",
       "      <td>0</td>\n",
       "      <td>1359</td>\n",
       "    </tr>\n",
       "    <tr>\n",
       "      <th>Information Tech</th>\n",
       "      <td>0</td>\n",
       "      <td>0</td>\n",
       "      <td>0</td>\n",
       "      <td>1389</td>\n",
       "      <td>0</td>\n",
       "    </tr>\n",
       "    <tr>\n",
       "      <th>Materials</th>\n",
       "      <td>0</td>\n",
       "      <td>1445</td>\n",
       "      <td>0</td>\n",
       "      <td>0</td>\n",
       "      <td>0</td>\n",
       "    </tr>\n",
       "    <tr>\n",
       "      <th>Real Estate</th>\n",
       "      <td>1383</td>\n",
       "      <td>0</td>\n",
       "      <td>0</td>\n",
       "      <td>0</td>\n",
       "      <td>0</td>\n",
       "    </tr>\n",
       "  </tbody>\n",
       "</table>\n",
       "</div>"
      ],
      "text/plain": [
       "Covid Impact (Beta)  -0.43   0.03   0.11   0.23   0.78\n",
       "Industry                                              \n",
       "Energy                   0      0   1431      0      0\n",
       "Healthcare               0      0      0      0   1359\n",
       "Information Tech         0      0      0   1389      0\n",
       "Materials                0   1445      0      0      0\n",
       "Real Estate           1383      0      0      0      0"
      ]
     },
     "execution_count": 17,
     "metadata": {},
     "output_type": "execute_result"
    }
   ],
   "source": [
    "pd.crosstab(train_data['Industry'],train_data['Covid Impact (Beta)'])\n",
    "#industry vs covid impact"
   ]
  },
  {
   "cell_type": "code",
   "execution_count": 18,
   "id": "ef5d256c-9343-4067-904c-5f555a12e033",
   "metadata": {},
   "outputs": [],
   "source": [
    "\n",
    "train_data.loc[train_data[\"Industry\"]==\"Real Estate\", [\"Covid Impact (Beta)\"]] = -0.43\n",
    "train_data.loc[train_data[\"Industry\"]==\"Energy\", [\"Covid Impact (Beta)\"]] = 0.11\n",
    "train_data.loc[train_data[\"Industry\"]==\"Healthcare\", [\"Covid Impact (Beta)\"]] = 0.78\n",
    "train_data.loc[train_data[\"Industry\"]==\"Materials\", [\"Covid Impact (Beta)\"]] = 0.03\n",
    "train_data.loc[train_data[\"Industry\"]==\"Information Tech\", [\"Covid Impact (Beta)\"]] = 0.23"
   ]
  },
  {
   "cell_type": "code",
   "execution_count": 19,
   "id": "acf45893-3019-4731-bd64-2b6f62cf8efd",
   "metadata": {},
   "outputs": [
    {
     "data": {
      "text/html": [
       "<div>\n",
       "<style scoped>\n",
       "    .dataframe tbody tr th:only-of-type {\n",
       "        vertical-align: middle;\n",
       "    }\n",
       "\n",
       "    .dataframe tbody tr th {\n",
       "        vertical-align: top;\n",
       "    }\n",
       "\n",
       "    .dataframe thead th {\n",
       "        text-align: right;\n",
       "    }\n",
       "</style>\n",
       "<table border=\"1\" class=\"dataframe\">\n",
       "  <thead>\n",
       "    <tr style=\"text-align: right;\">\n",
       "      <th>General Index</th>\n",
       "      <th>3351.28</th>\n",
       "      <th>11270.15</th>\n",
       "      <th>12765.84</th>\n",
       "      <th>38182.08</th>\n",
       "      <th>55722.00</th>\n",
       "    </tr>\n",
       "    <tr>\n",
       "      <th>Index</th>\n",
       "      <th></th>\n",
       "      <th></th>\n",
       "      <th></th>\n",
       "      <th></th>\n",
       "      <th></th>\n",
       "    </tr>\n",
       "  </thead>\n",
       "  <tbody>\n",
       "    <tr>\n",
       "      <th>BSE</th>\n",
       "      <td>0</td>\n",
       "      <td>0</td>\n",
       "      <td>0</td>\n",
       "      <td>1453</td>\n",
       "      <td>0</td>\n",
       "    </tr>\n",
       "    <tr>\n",
       "      <th>JSE</th>\n",
       "      <td>0</td>\n",
       "      <td>0</td>\n",
       "      <td>0</td>\n",
       "      <td>0</td>\n",
       "      <td>1464</td>\n",
       "    </tr>\n",
       "    <tr>\n",
       "      <th>NSE</th>\n",
       "      <td>0</td>\n",
       "      <td>1485</td>\n",
       "      <td>0</td>\n",
       "      <td>0</td>\n",
       "      <td>0</td>\n",
       "    </tr>\n",
       "    <tr>\n",
       "      <th>NYSE</th>\n",
       "      <td>0</td>\n",
       "      <td>0</td>\n",
       "      <td>1458</td>\n",
       "      <td>0</td>\n",
       "      <td>0</td>\n",
       "    </tr>\n",
       "    <tr>\n",
       "      <th>S&amp;P 500</th>\n",
       "      <td>1461</td>\n",
       "      <td>0</td>\n",
       "      <td>0</td>\n",
       "      <td>0</td>\n",
       "      <td>0</td>\n",
       "    </tr>\n",
       "  </tbody>\n",
       "</table>\n",
       "</div>"
      ],
      "text/plain": [
       "General Index  3351.28   11270.15  12765.84  38182.08  55722.00\n",
       "Index                                                          \n",
       "BSE                   0         0         0      1453         0\n",
       "JSE                   0         0         0         0      1464\n",
       "NSE                   0      1485         0         0         0\n",
       "NYSE                  0         0      1458         0         0\n",
       "S&P 500            1461         0         0         0         0"
      ]
     },
     "execution_count": 19,
     "metadata": {},
     "output_type": "execute_result"
    }
   ],
   "source": [
    "#Index vs. General Index \n",
    "\n",
    "pd.crosstab(train_data['Index'],train_data['General Index'])"
   ]
  },
  {
   "cell_type": "code",
   "execution_count": 20,
   "id": "610a8841-6532-4c37-aa0f-feae1217a0f0",
   "metadata": {},
   "outputs": [],
   "source": [
    "train_data.loc[train_data[\"Index\"]==\"NSE\", [\"General Index\"]] = 11270.15\n",
    "train_data.loc[train_data[\"Index\"]==\"NYSE\", [\"General Index\"]] = 12765.84\n",
    "train_data.loc[train_data[\"Index\"]==\"BSE\", [\"General Index\"]] = 38182.08\n",
    "train_data.loc[train_data[\"Index\"]==\"JSE\", [\"General Index\"]] = 55722.00\n",
    "train_data.loc[train_data[\"Index\"]==\"S&P 500\", [\"General Index\"]] = 3351.28"
   ]
  },
  {
   "cell_type": "code",
   "execution_count": 21,
   "id": "e499ca84-9679-4200-b6e4-2a357a76f60c",
   "metadata": {},
   "outputs": [],
   "source": [
    "#replacing all na values with mean of columns\n",
    "\n",
    "train_data[\"Volumes Traded\"].fillna(train_data[\"Volumes Traded\"].mean(),inplace = True)\n",
    "train_data[\"P/E Ratio\"].fillna(train_data[\"P/E Ratio\"].mean(),inplace = True)\n",
    "train_data[\"Inventory Turnover\"].fillna(train_data[\"Inventory Turnover\"].mean(),inplace = True)\n",
    "train_data[\"Tracking Error\"].fillna(train_data[\"Tracking Error\"].mean(),inplace = True)\n",
    "train_data[\"Put-Call Ratio\"].fillna(train_data[\"Put-Call Ratio\"].mean(),inplace = True)"
   ]
  },
  {
   "cell_type": "code",
   "execution_count": 22,
   "id": "883a662b-d417-44c3-99ff-74b965f7b552",
   "metadata": {},
   "outputs": [
    {
     "data": {
      "text/plain": [
       "Stock Index             0\n",
       "Index                   0\n",
       "Industry                0\n",
       "VWAP                    0\n",
       "General Index           0\n",
       "NAV                     0\n",
       "P/E Ratio               0\n",
       "Volumes Traded          0\n",
       "Inventory Turnover      0\n",
       "Covid Impact (Beta)     0\n",
       "Tracking Error          0\n",
       "Dollar Exchange Rate    0\n",
       "Put-Call Ratio          0\n",
       "P/B Ratio               0\n",
       "Stock Price             0\n",
       "dtype: int64"
      ]
     },
     "execution_count": 22,
     "metadata": {},
     "output_type": "execute_result"
    }
   ],
   "source": [
    "#dropping the remaining data as its not a big number as such\n",
    "train_data.dropna(inplace=True)\n",
    "train_data.isna().sum()"
   ]
  },
  {
   "cell_type": "code",
   "execution_count": 23,
   "id": "67bbcaa7-c9d2-4757-bfab-87e5e5f10172",
   "metadata": {},
   "outputs": [],
   "source": [
    "#missing values handled"
   ]
  },
  {
   "cell_type": "code",
   "execution_count": 24,
   "id": "e4a4970a-edee-4dc5-8771-bd79e42a99b1",
   "metadata": {},
   "outputs": [],
   "source": [
    "#Spliting the Data\n",
    "\n",
    " # 1)labell encoding\n",
    "le =LabelEncoder()\n",
    "\n",
    "label = le.fit_transform(train_data[\"Industry\"])  #Label encoded the Industry column\n",
    "label1 = le.fit_transform(train_data[\"Index\"])    #Label encoded the Index column\n",
    "\n"
   ]
  },
  {
   "cell_type": "code",
   "execution_count": 25,
   "id": "4e60d938-ea01-4229-9f75-19d967adfbac",
   "metadata": {},
   "outputs": [],
   "source": [
    "train_data.drop(\"Industry\",axis=1,inplace=True)\n",
    "train_data[\"Industry\"] = label\n",
    "#Dropped the Previous column and added new encoded column for Industry.\n",
    "\n",
    "train_data.drop(\"Index\",axis=1,inplace=True)\n",
    "train_data[\"Index\"] = label1\n",
    "#Dropped the Previous column and added new encoded column for Index.\n",
    "\n",
    "train_data.drop(\"Stock Index\", axis=1, inplace=True)\n",
    "#The Stock Index is dropped because its just index and not used to predict anything."
   ]
  },
  {
   "cell_type": "code",
   "execution_count": 26,
   "id": "57f4f7e3-9925-46e7-97a7-371fb5d05f23",
   "metadata": {},
   "outputs": [],
   "source": [
    "X = train_data.drop(\"Stock Price\", axis =1)\n",
    "Y = train_data[\"Stock Price\"]"
   ]
  },
  {
   "cell_type": "code",
   "execution_count": 27,
   "id": "27ca6290-98d2-464f-b103-fcb5b3881c19",
   "metadata": {},
   "outputs": [
    {
     "data": {
      "text/html": [
       "<div>\n",
       "<style scoped>\n",
       "    .dataframe tbody tr th:only-of-type {\n",
       "        vertical-align: middle;\n",
       "    }\n",
       "\n",
       "    .dataframe tbody tr th {\n",
       "        vertical-align: top;\n",
       "    }\n",
       "\n",
       "    .dataframe thead th {\n",
       "        text-align: right;\n",
       "    }\n",
       "</style>\n",
       "<table border=\"1\" class=\"dataframe\">\n",
       "  <thead>\n",
       "    <tr style=\"text-align: right;\">\n",
       "      <th></th>\n",
       "      <th>VWAP</th>\n",
       "      <th>General Index</th>\n",
       "      <th>NAV</th>\n",
       "      <th>P/E Ratio</th>\n",
       "      <th>Volumes Traded</th>\n",
       "      <th>Inventory Turnover</th>\n",
       "      <th>Covid Impact (Beta)</th>\n",
       "      <th>Tracking Error</th>\n",
       "      <th>Dollar Exchange Rate</th>\n",
       "      <th>Put-Call Ratio</th>\n",
       "      <th>P/B Ratio</th>\n",
       "      <th>Industry</th>\n",
       "      <th>Index</th>\n",
       "    </tr>\n",
       "  </thead>\n",
       "  <tbody>\n",
       "    <tr>\n",
       "      <th>0</th>\n",
       "      <td>700.29</td>\n",
       "      <td>12765.84</td>\n",
       "      <td>32.38</td>\n",
       "      <td>45.35</td>\n",
       "      <td>1208599.0</td>\n",
       "      <td>5.05</td>\n",
       "      <td>-0.43</td>\n",
       "      <td>0.0520</td>\n",
       "      <td>1.0</td>\n",
       "      <td>0.610000</td>\n",
       "      <td>9.20</td>\n",
       "      <td>4</td>\n",
       "      <td>3</td>\n",
       "    </tr>\n",
       "    <tr>\n",
       "      <th>1</th>\n",
       "      <td>214.52</td>\n",
       "      <td>12765.84</td>\n",
       "      <td>33.25</td>\n",
       "      <td>170.56</td>\n",
       "      <td>13753356.0</td>\n",
       "      <td>3.10</td>\n",
       "      <td>0.23</td>\n",
       "      <td>0.0164</td>\n",
       "      <td>1.0</td>\n",
       "      <td>0.944722</td>\n",
       "      <td>6.91</td>\n",
       "      <td>2</td>\n",
       "      <td>3</td>\n",
       "    </tr>\n",
       "    <tr>\n",
       "      <th>2</th>\n",
       "      <td>943.42</td>\n",
       "      <td>12765.84</td>\n",
       "      <td>88.27</td>\n",
       "      <td>143.58</td>\n",
       "      <td>6892003.0</td>\n",
       "      <td>7.70</td>\n",
       "      <td>0.23</td>\n",
       "      <td>0.0396</td>\n",
       "      <td>1.0</td>\n",
       "      <td>0.944722</td>\n",
       "      <td>6.09</td>\n",
       "      <td>2</td>\n",
       "      <td>3</td>\n",
       "    </tr>\n",
       "    <tr>\n",
       "      <th>3</th>\n",
       "      <td>828.13</td>\n",
       "      <td>38182.08</td>\n",
       "      <td>73.66</td>\n",
       "      <td>151.76</td>\n",
       "      <td>8316793.0</td>\n",
       "      <td>4.80</td>\n",
       "      <td>0.03</td>\n",
       "      <td>0.0431</td>\n",
       "      <td>74.9</td>\n",
       "      <td>1.110000</td>\n",
       "      <td>5.60</td>\n",
       "      <td>3</td>\n",
       "      <td>0</td>\n",
       "    </tr>\n",
       "    <tr>\n",
       "      <th>5</th>\n",
       "      <td>259.61</td>\n",
       "      <td>38182.08</td>\n",
       "      <td>10.63</td>\n",
       "      <td>153.05</td>\n",
       "      <td>19263869.0</td>\n",
       "      <td>8.04</td>\n",
       "      <td>0.03</td>\n",
       "      <td>0.0344</td>\n",
       "      <td>74.9</td>\n",
       "      <td>1.150000</td>\n",
       "      <td>5.51</td>\n",
       "      <td>3</td>\n",
       "      <td>0</td>\n",
       "    </tr>\n",
       "  </tbody>\n",
       "</table>\n",
       "</div>"
      ],
      "text/plain": [
       "     VWAP  General Index    NAV  P/E Ratio  Volumes Traded  \\\n",
       "0  700.29       12765.84  32.38      45.35       1208599.0   \n",
       "1  214.52       12765.84  33.25     170.56      13753356.0   \n",
       "2  943.42       12765.84  88.27     143.58       6892003.0   \n",
       "3  828.13       38182.08  73.66     151.76       8316793.0   \n",
       "5  259.61       38182.08  10.63     153.05      19263869.0   \n",
       "\n",
       "   Inventory Turnover  Covid Impact (Beta)  Tracking Error  \\\n",
       "0                5.05                -0.43          0.0520   \n",
       "1                3.10                 0.23          0.0164   \n",
       "2                7.70                 0.23          0.0396   \n",
       "3                4.80                 0.03          0.0431   \n",
       "5                8.04                 0.03          0.0344   \n",
       "\n",
       "   Dollar Exchange Rate  Put-Call Ratio  P/B Ratio  Industry  Index  \n",
       "0                   1.0        0.610000       9.20         4      3  \n",
       "1                   1.0        0.944722       6.91         2      3  \n",
       "2                   1.0        0.944722       6.09         2      3  \n",
       "3                  74.9        1.110000       5.60         3      0  \n",
       "5                  74.9        1.150000       5.51         3      0  "
      ]
     },
     "execution_count": 27,
     "metadata": {},
     "output_type": "execute_result"
    }
   ],
   "source": [
    "X.head()"
   ]
  },
  {
   "cell_type": "code",
   "execution_count": 28,
   "id": "a6de26cf-b17e-4401-ba36-d81b86777c37",
   "metadata": {},
   "outputs": [],
   "source": [
    "# Spliting the Data into train and test(Validation) Data \n",
    "x_train, x_test, y_train, y_test = train_test_split(X, Y, test_size=0.2)"
   ]
  },
  {
   "cell_type": "code",
   "execution_count": 29,
   "id": "43ea550d-10ee-4965-8bca-0037774c2bcd",
   "metadata": {},
   "outputs": [
    {
     "data": {
      "text/plain": [
       "((5828, 13), (1457, 13))"
      ]
     },
     "execution_count": 29,
     "metadata": {},
     "output_type": "execute_result"
    }
   ],
   "source": [
    "x_train.shape, x_test.shape"
   ]
  },
  {
   "cell_type": "code",
   "execution_count": 30,
   "id": "4fab0634-31a4-4441-81aa-99bc3241afa7",
   "metadata": {},
   "outputs": [],
   "source": [
    "#Training the model\n"
   ]
  },
  {
   "cell_type": "code",
   "execution_count": 31,
   "id": "85c38edc-442f-405f-92d9-163ed9b0beb2",
   "metadata": {},
   "outputs": [
    {
     "data": {
      "text/plain": [
       "0.8715725915853768"
      ]
     },
     "execution_count": 31,
     "metadata": {},
     "output_type": "execute_result"
    }
   ],
   "source": [
    "np.random.seed(36) #Seed to make our results re-producable\n",
    "\n",
    "model1 = LinearRegression()\n",
    "model1.fit(x_train,y_train)\n",
    "model1.score(x_test, y_test)"
   ]
  },
  {
   "cell_type": "code",
   "execution_count": 32,
   "id": "5d9e362f-f7bd-444b-8ab3-85940f18f362",
   "metadata": {},
   "outputs": [
    {
     "data": {
      "text/plain": [
       "0.8715793920842696"
      ]
     },
     "execution_count": 32,
     "metadata": {},
     "output_type": "execute_result"
    }
   ],
   "source": [
    "np.random.seed(36) #Seed to make our results re-producable\n",
    "\n",
    "model2 = linear_model.Ridge(alpha=20)\n",
    "model2.fit(x_train,y_train)\n",
    "model2.score(x_test, y_test)"
   ]
  },
  {
   "cell_type": "code",
   "execution_count": 33,
   "id": "20dbe8aa-473b-483a-85c0-a3c4d3bda83e",
   "metadata": {},
   "outputs": [
    {
     "data": {
      "text/plain": [
       "0.9791289025767353"
      ]
     },
     "execution_count": 33,
     "metadata": {},
     "output_type": "execute_result"
    }
   ],
   "source": [
    "np.random.seed(42)\n",
    "\n",
    "model3 = RandomForestRegressor()\n",
    "model3.fit(x_train,y_train)\n",
    "model3.score(x_test, y_test)"
   ]
  },
  {
   "cell_type": "code",
   "execution_count": 34,
   "id": "8a6849e3-3152-4436-8dc3-b146de796f1d",
   "metadata": {},
   "outputs": [],
   "source": [
    "#Currently our models are :\n",
    "\n",
    "#model1 : LinearRegression()\n",
    "\n",
    "#model2 : linear_model.Ridge(alpha=20)\n",
    "\n",
    "#model3 : RandomForestRegressor()"
   ]
  },
  {
   "cell_type": "code",
   "execution_count": 35,
   "id": "4f98507a-cdbf-4fee-80f5-9bb4996dbc4c",
   "metadata": {},
   "outputs": [],
   "source": [
    "#Predicting values with our different models\n",
    "y_pred1 = model1.predict(x_test) #Predicted Values by Model1\n",
    "y_pred2 = model2.predict(x_test) #Predicted Values by Model2\n",
    "y_pred3 = model3.predict(x_test) #Predicted Values by Model3"
   ]
  },
  {
   "cell_type": "code",
   "execution_count": 36,
   "id": "23ca5380-11ec-4089-8e3d-fe52e23757b4",
   "metadata": {},
   "outputs": [
    {
     "data": {
      "text/plain": [
       "<Axes: >"
      ]
     },
     "execution_count": 36,
     "metadata": {},
     "output_type": "execute_result"
    },
    {
     "data": {
      "image/png": "[encoded data removed]",
      "text/plain": [
       "<Figure size 800x550 with 1 Axes>"
      ]
     },
     "metadata": {},
     "output_type": "display_data"
    }
   ],
   "source": [
    "r2_scores = pd.DataFrame(data={\"LinearRegressor\":r2_score(y_test, y_pred1),\n",
    "             \"RidgeRegressor\":r2_score(y_test, y_pred2),\n",
    "             \"RandomForest\":r2_score(y_test, y_pred3)}, index = [\"R2_score\"])\n",
    "r2_scores.T.plot.bar(color='green')"
   ]
  },
  {
   "cell_type": "code",
   "execution_count": 37,
   "id": "e1568151-2573-46bd-bae5-4af9bb5495c7",
   "metadata": {},
   "outputs": [
    {
     "data": {
      "image/png": "[encoded data removed]",
      "text/plain": [
       "<Figure size 800x550 with 1 Axes>"
      ]
     },
     "metadata": {},
     "output_type": "display_data"
    }
   ],
   "source": [
    "#it can be seen that random forest performs better prediction\n",
    "\n",
    "\n",
    "#mean absolute error\n",
    "mae_scores = pd.DataFrame(data={\"LinearRegressor\":mean_absolute_error(y_test, y_pred1),\n",
    "             \"RidgeRegressor\":mean_absolute_error(y_test, y_pred2),\n",
    "             \"RandomForest\":mean_absolute_error(y_test, y_pred3)}, index = [\"Mean Absolute Error\"])\n",
    "mae_scores.T.plot.bar(color='blue');"
   ]
  },
  {
   "cell_type": "code",
   "execution_count": 38,
   "id": "a2805441-64c1-4cd1-8966-d50bcd2590b7",
   "metadata": {},
   "outputs": [
    {
     "data": {
      "image/png": "[encoded data removed]",
      "text/plain": [
       "<Figure size 800x550 with 1 Axes>"
      ]
     },
     "metadata": {},
     "output_type": "display_data"
    }
   ],
   "source": [
    "#mean squared error\n",
    "\n",
    "mse_scores = pd.DataFrame(data={\"LinearRegressor\":mean_squared_error(y_test, y_pred1),\n",
    "             \"RidgeRegressor\":mean_squared_error(y_test, y_pred2),\n",
    "             \"RandomForest\":mean_squared_error(y_test, y_pred3)}, index = [\"Mean Squared Error\"])\n",
    "mse_scores.T.plot.bar(color='purple');"
   ]
  },
  {
   "cell_type": "code",
   "execution_count": 39,
   "id": "06b41f6a-46cc-48c5-b63a-50f5b59dd476",
   "metadata": {},
   "outputs": [],
   "source": [
    "#evaluating model\n",
    "\n",
    "model = model3 #RandomForest\n",
    "y_pred = y_pred3"
   ]
  },
  {
   "cell_type": "code",
   "execution_count": 40,
   "id": "3004fe9a-54b5-4469-8fe4-f8e9f1b73f00",
   "metadata": {},
   "outputs": [],
   "source": [
    " #Evaluating Values Manually\n",
    "#The below is a DataFrame containing the predicted and true value."
   ]
  },
  {
   "cell_type": "code",
   "execution_count": 41,
   "id": "195782eb-d5ea-4ad6-ad61-55ead0990506",
   "metadata": {},
   "outputs": [
    {
     "data": {
      "text/html": [
       "<div>\n",
       "<style scoped>\n",
       "    .dataframe tbody tr th:only-of-type {\n",
       "        vertical-align: middle;\n",
       "    }\n",
       "\n",
       "    .dataframe tbody tr th {\n",
       "        vertical-align: top;\n",
       "    }\n",
       "\n",
       "    .dataframe thead th {\n",
       "        text-align: right;\n",
       "    }\n",
       "</style>\n",
       "<table border=\"1\" class=\"dataframe\">\n",
       "  <thead>\n",
       "    <tr style=\"text-align: right;\">\n",
       "      <th></th>\n",
       "      <th>Predicted</th>\n",
       "      <th>Original</th>\n",
       "      <th>Difference</th>\n",
       "    </tr>\n",
       "  </thead>\n",
       "  <tbody>\n",
       "    <tr>\n",
       "      <th>1111</th>\n",
       "      <td>310.559718</td>\n",
       "      <td>308.666697</td>\n",
       "      <td>1.893021</td>\n",
       "    </tr>\n",
       "    <tr>\n",
       "      <th>5820</th>\n",
       "      <td>856.667179</td>\n",
       "      <td>865.351808</td>\n",
       "      <td>-8.684629</td>\n",
       "    </tr>\n",
       "    <tr>\n",
       "      <th>6948</th>\n",
       "      <td>127.976999</td>\n",
       "      <td>121.292847</td>\n",
       "      <td>6.684152</td>\n",
       "    </tr>\n",
       "    <tr>\n",
       "      <th>5071</th>\n",
       "      <td>715.424773</td>\n",
       "      <td>737.271910</td>\n",
       "      <td>-21.847137</td>\n",
       "    </tr>\n",
       "    <tr>\n",
       "      <th>6226</th>\n",
       "      <td>548.789124</td>\n",
       "      <td>545.262090</td>\n",
       "      <td>3.527035</td>\n",
       "    </tr>\n",
       "  </tbody>\n",
       "</table>\n",
       "</div>"
      ],
      "text/plain": [
       "       Predicted    Original  Difference\n",
       "1111  310.559718  308.666697    1.893021\n",
       "5820  856.667179  865.351808   -8.684629\n",
       "6948  127.976999  121.292847    6.684152\n",
       "5071  715.424773  737.271910  -21.847137\n",
       "6226  548.789124  545.262090    3.527035"
      ]
     },
     "execution_count": 41,
     "metadata": {},
     "output_type": "execute_result"
    }
   ],
   "source": [
    "values = pd.DataFrame(data={\"Predicted\":y_pred,\"Original\":y_test,\"Difference\":y_pred-y_test})\n",
    "values.head()"
   ]
  },
  {
   "cell_type": "code",
   "execution_count": 42,
   "id": "ed03236d-0094-4f46-a57d-7daa22961a58",
   "metadata": {},
   "outputs": [
    {
     "data": {
      "image/png": "[encoded data removed]",
      "text/plain": [
       "<Figure size 500x500 with 1 Axes>"
      ]
     },
     "metadata": {},
     "output_type": "display_data"
    }
   ],
   "source": [
    "visualizer = PredictionError(model,size=(500,500))\n",
    "\n",
    "visualizer.fit(x_train, y_train)  # Fit the training data to the visualizer\n",
    "visualizer.score(x_test, y_test)  # Evaluate the model on the validation data\n",
    "visualizer.poof();"
   ]
  },
  {
   "cell_type": "code",
   "execution_count": 43,
   "id": "cb56c5e6-5420-4e23-a3e8-90b58d8288dd",
   "metadata": {},
   "outputs": [
    {
     "data": {
      "text/plain": [
       "array([0.99152613, 0.94662341, 0.99557742])"
      ]
     },
     "execution_count": 43,
     "metadata": {},
     "output_type": "execute_result"
    }
   ],
   "source": [
    "#cross val score\n",
    "\n",
    "np.random.seed(42)\n",
    "\n",
    "cross_val_score(model, X, Y, cv=3, scoring=None)"
   ]
  },
  {
   "cell_type": "code",
   "execution_count": 44,
   "id": "df8c05ee-2464-464d-a9de-8a820d99436e",
   "metadata": {},
   "outputs": [],
   "source": [
    "#The test data imported below is cleaned and filled in another jupyter notebook.\n",
    "\n",
    "#It has the same Data Cleaning Steps as we used in this notebook"
   ]
  },
  {
   "cell_type": "code",
   "execution_count": 45,
   "id": "791d4de5-db28-48b7-9002-5e0e4687fb35",
   "metadata": {},
   "outputs": [
    {
     "data": {
      "text/html": [
       "<div>\n",
       "<style scoped>\n",
       "    .dataframe tbody tr th:only-of-type {\n",
       "        vertical-align: middle;\n",
       "    }\n",
       "\n",
       "    .dataframe tbody tr th {\n",
       "        vertical-align: top;\n",
       "    }\n",
       "\n",
       "    .dataframe thead th {\n",
       "        text-align: right;\n",
       "    }\n",
       "</style>\n",
       "<table border=\"1\" class=\"dataframe\">\n",
       "  <thead>\n",
       "    <tr style=\"text-align: right;\">\n",
       "      <th></th>\n",
       "      <th>Stock Index</th>\n",
       "      <th>VWAP</th>\n",
       "      <th>General Index</th>\n",
       "      <th>NAV</th>\n",
       "      <th>P/E Ratio</th>\n",
       "      <th>Volumes Traded</th>\n",
       "      <th>Inventory Turnover</th>\n",
       "      <th>Covid Impact (Beta)</th>\n",
       "      <th>Tracking Error</th>\n",
       "      <th>Dollar Exchange Rate</th>\n",
       "      <th>Put-Call Ratio</th>\n",
       "      <th>P/B Ratio</th>\n",
       "      <th>Industry</th>\n",
       "      <th>Index</th>\n",
       "    </tr>\n",
       "  </thead>\n",
       "  <tbody>\n",
       "    <tr>\n",
       "      <th>0</th>\n",
       "      <td>AC3235</td>\n",
       "      <td>53.30</td>\n",
       "      <td>11270.15</td>\n",
       "      <td>44.59</td>\n",
       "      <td>185.09</td>\n",
       "      <td>12067855.0</td>\n",
       "      <td>2.78</td>\n",
       "      <td>0.03</td>\n",
       "      <td>0.0330</td>\n",
       "      <td>74.9</td>\n",
       "      <td>0.800000</td>\n",
       "      <td>4.66</td>\n",
       "      <td>3</td>\n",
       "      <td>2</td>\n",
       "    </tr>\n",
       "    <tr>\n",
       "      <th>1</th>\n",
       "      <td>AC3236</td>\n",
       "      <td>749.34</td>\n",
       "      <td>55722.00</td>\n",
       "      <td>74.20</td>\n",
       "      <td>34.01</td>\n",
       "      <td>6172474.0</td>\n",
       "      <td>6.78</td>\n",
       "      <td>0.11</td>\n",
       "      <td>0.0464</td>\n",
       "      <td>17.7</td>\n",
       "      <td>0.860000</td>\n",
       "      <td>6.11</td>\n",
       "      <td>0</td>\n",
       "      <td>1</td>\n",
       "    </tr>\n",
       "    <tr>\n",
       "      <th>2</th>\n",
       "      <td>AC3237</td>\n",
       "      <td>567.75</td>\n",
       "      <td>1461.00</td>\n",
       "      <td>88.41</td>\n",
       "      <td>177.40</td>\n",
       "      <td>17472488.0</td>\n",
       "      <td>4.36</td>\n",
       "      <td>0.23</td>\n",
       "      <td>0.0401</td>\n",
       "      <td>1.0</td>\n",
       "      <td>0.930000</td>\n",
       "      <td>4.99</td>\n",
       "      <td>2</td>\n",
       "      <td>4</td>\n",
       "    </tr>\n",
       "    <tr>\n",
       "      <th>3</th>\n",
       "      <td>AC3238</td>\n",
       "      <td>646.78</td>\n",
       "      <td>11270.15</td>\n",
       "      <td>79.36</td>\n",
       "      <td>105.44</td>\n",
       "      <td>15553159.0</td>\n",
       "      <td>2.77</td>\n",
       "      <td>0.78</td>\n",
       "      <td>0.0187</td>\n",
       "      <td>74.9</td>\n",
       "      <td>1.090000</td>\n",
       "      <td>1.26</td>\n",
       "      <td>1</td>\n",
       "      <td>2</td>\n",
       "    </tr>\n",
       "    <tr>\n",
       "      <th>4</th>\n",
       "      <td>AC3239</td>\n",
       "      <td>380.33</td>\n",
       "      <td>12765.84</td>\n",
       "      <td>19.90</td>\n",
       "      <td>139.40</td>\n",
       "      <td>12525784.0</td>\n",
       "      <td>5.93</td>\n",
       "      <td>0.03</td>\n",
       "      <td>0.0261</td>\n",
       "      <td>1.0</td>\n",
       "      <td>0.938828</td>\n",
       "      <td>6.18</td>\n",
       "      <td>3</td>\n",
       "      <td>3</td>\n",
       "    </tr>\n",
       "  </tbody>\n",
       "</table>\n",
       "</div>"
      ],
      "text/plain": [
       "  Stock Index    VWAP  General Index    NAV  P/E Ratio  Volumes Traded  \\\n",
       "0      AC3235   53.30       11270.15  44.59     185.09      12067855.0   \n",
       "1      AC3236  749.34       55722.00  74.20      34.01       6172474.0   \n",
       "2      AC3237  567.75        1461.00  88.41     177.40      17472488.0   \n",
       "3      AC3238  646.78       11270.15  79.36     105.44      15553159.0   \n",
       "4      AC3239  380.33       12765.84  19.90     139.40      12525784.0   \n",
       "\n",
       "   Inventory Turnover  Covid Impact (Beta)  Tracking Error  \\\n",
       "0                2.78                 0.03          0.0330   \n",
       "1                6.78                 0.11          0.0464   \n",
       "2                4.36                 0.23          0.0401   \n",
       "3                2.77                 0.78          0.0187   \n",
       "4                5.93                 0.03          0.0261   \n",
       "\n",
       "   Dollar Exchange Rate  Put-Call Ratio  P/B Ratio  Industry  Index  \n",
       "0                  74.9        0.800000       4.66         3      2  \n",
       "1                  17.7        0.860000       6.11         0      1  \n",
       "2                   1.0        0.930000       4.99         2      4  \n",
       "3                  74.9        1.090000       1.26         1      2  \n",
       "4                   1.0        0.938828       6.18         3      3  "
      ]
     },
     "execution_count": 45,
     "metadata": {},
     "output_type": "execute_result"
    }
   ],
   "source": [
    "cleaned_test = pd.read_csv(\"C:\\\\Users\\\\admin\\\\Downloads\\\\data\\\\final_test.csv\")\n",
    "cleaned_test.head()"
   ]
  },
  {
   "cell_type": "code",
   "execution_count": 46,
   "id": "96fe354e-8521-49a9-8dc1-5ab6a04970f3",
   "metadata": {},
   "outputs": [],
   "source": [
    "np.random.seed(42)\n",
    "predicted = model.predict(cleaned_test.drop(\"Stock Index\",axis=1))\n",
    "\n",
    "# Stock Index is not included while predicting because it isnt used for training the model\n"
   ]
  },
  {
   "cell_type": "code",
   "execution_count": 47,
   "id": "221182fc-1653-4309-a5bb-30632edd6dd7",
   "metadata": {},
   "outputs": [
    {
     "data": {
      "text/html": [
       "<div>\n",
       "<style scoped>\n",
       "    .dataframe tbody tr th:only-of-type {\n",
       "        vertical-align: middle;\n",
       "    }\n",
       "\n",
       "    .dataframe tbody tr th {\n",
       "        vertical-align: top;\n",
       "    }\n",
       "\n",
       "    .dataframe thead th {\n",
       "        text-align: right;\n",
       "    }\n",
       "</style>\n",
       "<table border=\"1\" class=\"dataframe\">\n",
       "  <thead>\n",
       "    <tr style=\"text-align: right;\">\n",
       "      <th></th>\n",
       "      <th>Predicted Values</th>\n",
       "    </tr>\n",
       "    <tr>\n",
       "      <th>Stock Index</th>\n",
       "      <th></th>\n",
       "    </tr>\n",
       "  </thead>\n",
       "  <tbody>\n",
       "    <tr>\n",
       "      <th>AC3235</th>\n",
       "      <td>808.563932</td>\n",
       "    </tr>\n",
       "    <tr>\n",
       "      <th>AC3236</th>\n",
       "      <td>255.185324</td>\n",
       "    </tr>\n",
       "    <tr>\n",
       "      <th>AC3237</th>\n",
       "      <td>1550.640334</td>\n",
       "    </tr>\n",
       "    <tr>\n",
       "      <th>AC3238</th>\n",
       "      <td>803.824159</td>\n",
       "    </tr>\n",
       "    <tr>\n",
       "      <th>AC3239</th>\n",
       "      <td>267.094905</td>\n",
       "    </tr>\n",
       "    <tr>\n",
       "      <th>...</th>\n",
       "      <td>...</td>\n",
       "    </tr>\n",
       "    <tr>\n",
       "      <th>AD2734</th>\n",
       "      <td>140.460108</td>\n",
       "    </tr>\n",
       "    <tr>\n",
       "      <th>AD2735</th>\n",
       "      <td>564.008513</td>\n",
       "    </tr>\n",
       "    <tr>\n",
       "      <th>AD2736</th>\n",
       "      <td>598.049868</td>\n",
       "    </tr>\n",
       "    <tr>\n",
       "      <th>AD2737</th>\n",
       "      <td>353.925872</td>\n",
       "    </tr>\n",
       "    <tr>\n",
       "      <th>AD2738</th>\n",
       "      <td>1304.525388</td>\n",
       "    </tr>\n",
       "  </tbody>\n",
       "</table>\n",
       "<p>3331 rows × 1 columns</p>\n",
       "</div>"
      ],
      "text/plain": [
       "             Predicted Values\n",
       "Stock Index                  \n",
       "AC3235             808.563932\n",
       "AC3236             255.185324\n",
       "AC3237            1550.640334\n",
       "AC3238             803.824159\n",
       "AC3239             267.094905\n",
       "...                       ...\n",
       "AD2734             140.460108\n",
       "AD2735             564.008513\n",
       "AD2736             598.049868\n",
       "AD2737             353.925872\n",
       "AD2738            1304.525388\n",
       "\n",
       "[3331 rows x 1 columns]"
      ]
     },
     "execution_count": 47,
     "metadata": {},
     "output_type": "execute_result"
    }
   ],
   "source": [
    "import os\n",
    "\n",
    "path = r\"C:\\Users\\admin\\Downloads\\answer_list\\file1.csv\"\n",
    "assert os.path.isfile(path)\n",
    "with open(path, \"r\") as f:\n",
    "    pass\n",
    "\n",
    "ans = pd.DataFrame(predicted,index=cleaned_test['Stock Index'],columns=[\"Predicted Values\"])\n",
    "ans.to_csv(\"path\")\n",
    "ans\n",
    "# Imported the final Answer as csv file \"file_01.csv\" as asked in the Question"
   ]
  },
  {
   "cell_type": "code",
   "execution_count": null,
   "id": "4feeb23a-ff09-4360-95ce-c76b43ebf04c",
   "metadata": {},
   "outputs": [],
   "source": []
  }
 ],
 "metadata": {
  "kernelspec": {
   "display_name": "Python 3 (ipykernel)",
   "language": "python",
   "name": "python3"
  },
  "language_info": {
   "codemirror_mode": {
    "name": "ipython",
    "version": 3
   },
   "file_extension": ".py",
   "mimetype": "text/x-python",
   "name": "python",
   "nbconvert_exporter": "python",
   "pygments_lexer": "ipython3",
   "version": "3.12.1"
  }
 },
 "nbformat": 4,
 "nbformat_minor": 5
}
